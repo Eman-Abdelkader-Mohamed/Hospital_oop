{
 "cells": [
  {
   "cell_type": "code",
   "execution_count": 195,
   "id": "8af5ceac",
   "metadata": {
    "ExecuteTime": {
     "end_time": "2023-05-11T14:19:42.666480Z",
     "start_time": "2023-05-11T14:19:42.654817Z"
    }
   },
   "outputs": [],
   "source": [
    "class Branch1:\n",
    "    patient_numbers=0\n",
    "    \n",
    "    @classmethod\n",
    "    def patient_count(cls) :\n",
    "        print(f\" we have {cls.patient_numbers} patient/s\")\n",
    "        \n",
    "    def __init__(self) :\n",
    "        self.patient_name=input(\"the patient name :\" )\n",
    "        self.patient_gender=input(\"mrs or miss : \")\n",
    "        self.patient_disease=input(\"the patient disease : \")\n",
    "        self.__patient_address=input(\"the patient address : \")\n",
    "        self.patient_age=int(input(\"the patient age : \"))\n",
    "        self.patient_Section=input(\"the Disease Section of Patient : \")\n",
    "        self.__patient_dangers=int(input(\"the danger percentage of this disease is about \" +  \"%\"))\n",
    "        self.__denote=0\n",
    "        Branch1.patient_numbers +=1\n",
    "\n",
    "                              \n",
    "    def need_operation(self) :\n",
    "        \"\"\" this function th know the patient need operator or just take medicine \"\"\"\n",
    "        \n",
    "        if self.__patient_dangers >= 60 : \n",
    "            return f\"Sorry {self.patient_gender} {self.patient_name } you need an operation\"\n",
    "        else :\n",
    "            return f\"  {self.patient_gender} {self.patient_name } you do not need an operation but take your medicine only \"\n",
    "        \n",
    "        \n",
    "              \n",
    "    def denote_for_patient(self) :\n",
    "        \"\"\"this function to denote for the journey of patient treatment \"\"\"\n",
    "        \n",
    "        denote_amount=int(input(\"Enter your Denote Amount : \"))\n",
    "        self.__denote +=denote_amount\n",
    "        print(\"thanks about your denotation for the patient -_-\" )\n",
    "           \n",
    "        \n",
    "    def widthdraw_for_patient(self) :\n",
    "        \"\"\"This function to Withdrawal of donations\"\"\"\n",
    "        \n",
    "        withdraw=int(input(\"Enter the amount that you wanna withdraw it :  \"))\n",
    "        nameOfPatient= input(\"Enter the name of patient who need this money : \")\n",
    "        if nameOfPatient ==self.patient_name and withdraw<=self.__denote :\n",
    "            print(\" This patient is in our database and this amount is available know .... DONE\")\n",
    "            self.__denote -=withdraw   \n",
    "        else:\n",
    "            print(\"sorry check the name of patient or the amount that you order \")\n",
    "            \n",
    "            \n",
    "            \n",
    "    def delet_patients(self) :\n",
    "        \"\"\"Tihs function to delete the patient from database\"\"\"\n",
    "        \n",
    "        Branch1.patient_numbers -=1\n",
    "        return f\" patient  {self.patient_name} deleted\"\n",
    "    \n",
    "    \n",
    "\n",
    "    def chech_denoteAmount(self):\n",
    "        return f\" the denote amount is {self.__denote}\"   \n",
    "            \n",
    "   # def nearest_branch(self) :\n",
    "      #  self.branch=[\"cairo\" , \" Alex \" ]\n",
    "       # self.check_city=input(\" cairo or Alex : \")\n",
    "        #if self.check_city==\"cairo\":\n",
    "         #   print(\"you are in cairo branch\")\n",
    "        #else:\n",
    "         #   Branch1=Branch2\n",
    "class Branch2 (Branch1):\n",
    "    def madicine_need(self) :\n",
    "        \"\"\"this function shows who have access of medicine\"\"\"\n",
    "        \n",
    "        patientName = input(\"Your name is : \")\n",
    "        if patientName == self.patient_name :\n",
    "            print(\"Yes, you can get your medicine from the hosbital\")\n",
    "        else :\n",
    "            print(\" sorry you hav not any access\")"
   ]
  },
  {
   "cell_type": "code",
   "execution_count": 196,
   "id": "18b8801d",
   "metadata": {
    "ExecuteTime": {
     "end_time": "2023-05-11T14:20:11.521769Z",
     "start_time": "2023-05-11T14:19:43.129785Z"
    }
   },
   "outputs": [
    {
     "name": "stdout",
     "output_type": "stream",
     "text": [
      "the patient name :Ali\n",
      "mrs or miss : mrs\n",
      "the patient disease : heart\n",
      "the patient address : Nasr City\n",
      "the patient age : 35\n",
      "the Disease Section of Patient : heart\n",
      "the danger percentage of this disease is about %65\n"
     ]
    }
   ],
   "source": [
    "test1=Branch1()"
   ]
  },
  {
   "cell_type": "code",
   "execution_count": 197,
   "id": "a3c71ef6",
   "metadata": {
    "ExecuteTime": {
     "end_time": "2023-05-11T14:20:54.381381Z",
     "start_time": "2023-05-11T14:20:19.285445Z"
    }
   },
   "outputs": [
    {
     "name": "stdout",
     "output_type": "stream",
     "text": [
      "the patient name :Mona\n",
      "mrs or miss : miss\n",
      "the patient disease : leg\n",
      "the patient address : 6 october\n",
      "the patient age : 30\n",
      "the Disease Section of Patient : Bones\n",
      "the danger percentage of this disease is about %20\n"
     ]
    }
   ],
   "source": [
    "test2=Branch2()"
   ]
  },
  {
   "cell_type": "code",
   "execution_count": 198,
   "id": "67448522",
   "metadata": {
    "ExecuteTime": {
     "end_time": "2023-05-11T14:20:57.286382Z",
     "start_time": "2023-05-11T14:20:57.273690Z"
    }
   },
   "outputs": [
    {
     "data": {
      "text/plain": [
       "'Sorry mrs Ali you need an operation'"
      ]
     },
     "execution_count": 198,
     "metadata": {},
     "output_type": "execute_result"
    }
   ],
   "source": [
    "test1.need_operation()"
   ]
  },
  {
   "cell_type": "code",
   "execution_count": 199,
   "id": "9de16e7e",
   "metadata": {
    "ExecuteTime": {
     "end_time": "2023-05-11T14:20:59.082621Z",
     "start_time": "2023-05-11T14:20:59.072955Z"
    }
   },
   "outputs": [
    {
     "data": {
      "text/plain": [
       "'  miss Mona you do not need an operation but take your medicine only '"
      ]
     },
     "execution_count": 199,
     "metadata": {},
     "output_type": "execute_result"
    }
   ],
   "source": [
    "test2.need_operation()"
   ]
  },
  {
   "cell_type": "code",
   "execution_count": 200,
   "id": "6b149833",
   "metadata": {
    "ExecuteTime": {
     "end_time": "2023-05-11T14:21:08.270689Z",
     "start_time": "2023-05-11T14:21:01.856976Z"
    }
   },
   "outputs": [
    {
     "name": "stdout",
     "output_type": "stream",
     "text": [
      "Enter your Denote Amount : 1500\n",
      "thanks about your denotation for the patient -_-\n"
     ]
    }
   ],
   "source": [
    "test1.denote_for_patient()"
   ]
  },
  {
   "cell_type": "code",
   "execution_count": 202,
   "id": "a4bb6590",
   "metadata": {
    "ExecuteTime": {
     "end_time": "2023-05-11T14:21:28.918011Z",
     "start_time": "2023-05-11T14:21:22.132771Z"
    }
   },
   "outputs": [
    {
     "name": "stdout",
     "output_type": "stream",
     "text": [
      "Enter the amount that you wanna withdraw it :  500\n",
      "Enter the name of patient who need this money : Ali\n",
      " This patient is in our database and this amount is available know .... DONE\n"
     ]
    }
   ],
   "source": [
    "test1.widthdraw_for_patient()"
   ]
  },
  {
   "cell_type": "code",
   "execution_count": 203,
   "id": "d907f427",
   "metadata": {
    "ExecuteTime": {
     "end_time": "2023-05-11T14:21:41.911543Z",
     "start_time": "2023-05-11T14:21:31.316725Z"
    }
   },
   "outputs": [
    {
     "name": "stdout",
     "output_type": "stream",
     "text": [
      "Enter the amount that you wanna withdraw it :  200\n",
      "Enter the name of patient who need this money : Ali\n",
      "sorry check the name of patient or the amount that you order \n"
     ]
    }
   ],
   "source": [
    "test2.widthdraw_for_patient()"
   ]
  },
  {
   "cell_type": "code",
   "execution_count": 204,
   "id": "1dc05405",
   "metadata": {
    "ExecuteTime": {
     "end_time": "2023-05-11T14:22:06.644358Z",
     "start_time": "2023-05-11T14:22:06.633273Z"
    }
   },
   "outputs": [
    {
     "name": "stdout",
     "output_type": "stream",
     "text": [
      "<class '__main__.Branch1'>\n",
      "<class '__main__.Branch2'>\n"
     ]
    }
   ],
   "source": [
    "print(test1.__class__)\n",
    "print(test2.__class__)"
   ]
  },
  {
   "cell_type": "code",
   "execution_count": 209,
   "id": "399f5c8e",
   "metadata": {
    "ExecuteTime": {
     "end_time": "2023-05-11T14:22:33.685671Z",
     "start_time": "2023-05-11T14:22:33.675791Z"
    }
   },
   "outputs": [
    {
     "name": "stdout",
     "output_type": "stream",
     "text": [
      " we have 1 patient/s\n",
      " we have 1 patient/s\n"
     ]
    }
   ],
   "source": [
    "Branch1.patient_count()\n",
    "Branch2.patient_count()"
   ]
  },
  {
   "cell_type": "code",
   "execution_count": 206,
   "id": "a6784cf7",
   "metadata": {
    "ExecuteTime": {
     "end_time": "2023-05-11T14:22:18.418681Z",
     "start_time": "2023-05-11T14:22:18.404264Z"
    }
   },
   "outputs": [
    {
     "data": {
      "text/plain": [
       "' patient  Ali deleted'"
      ]
     },
     "execution_count": 206,
     "metadata": {},
     "output_type": "execute_result"
    }
   ],
   "source": [
    "test1.delet_patients()"
   ]
  },
  {
   "cell_type": "code",
   "execution_count": 212,
   "id": "4b4356e9",
   "metadata": {
    "ExecuteTime": {
     "end_time": "2023-05-11T14:23:03.334155Z",
     "start_time": "2023-05-11T14:23:00.336569Z"
    }
   },
   "outputs": [
    {
     "name": "stdout",
     "output_type": "stream",
     "text": [
      "Your name is : Mona\n",
      "Yes, you can get your medicine from the hosbital\n"
     ]
    }
   ],
   "source": [
    "test2.madicine_need()"
   ]
  },
  {
   "cell_type": "code",
   "execution_count": 215,
   "id": "ee54fbbb",
   "metadata": {
    "ExecuteTime": {
     "end_time": "2023-05-11T14:23:28.625935Z",
     "start_time": "2023-05-11T14:23:28.619584Z"
    }
   },
   "outputs": [
    {
     "name": "stdout",
     "output_type": "stream",
     "text": [
      "Ali\n"
     ]
    }
   ],
   "source": [
    "print(test1.patient_name)"
   ]
  },
  {
   "cell_type": "code",
   "execution_count": 216,
   "id": "f06efb55",
   "metadata": {
    "ExecuteTime": {
     "end_time": "2023-05-11T14:23:41.542875Z",
     "start_time": "2023-05-11T14:23:41.530304Z"
    }
   },
   "outputs": [
    {
     "data": {
      "text/plain": [
       "' the denote amount is 1000'"
      ]
     },
     "execution_count": 216,
     "metadata": {},
     "output_type": "execute_result"
    }
   ],
   "source": [
    "test1.chech_denoteAmount()"
   ]
  },
  {
   "cell_type": "code",
   "execution_count": 218,
   "id": "420272f5",
   "metadata": {
    "ExecuteTime": {
     "end_time": "2023-05-11T14:23:52.481682Z",
     "start_time": "2023-05-11T14:23:52.477693Z"
    }
   },
   "outputs": [],
   "source": [
    "#test1.nearest_branch()"
   ]
  },
  {
   "cell_type": "code",
   "execution_count": 220,
   "id": "cc3bd8aa",
   "metadata": {
    "ExecuteTime": {
     "end_time": "2023-05-11T14:24:21.015525Z",
     "start_time": "2023-05-11T14:24:20.993175Z"
    }
   },
   "outputs": [
    {
     "ename": "NameError",
     "evalue": "name 'need_operation' is not defined",
     "output_type": "error",
     "traceback": [
      "\u001b[1;31m---------------------------------------------------------------------------\u001b[0m",
      "\u001b[1;31mNameError\u001b[0m                                 Traceback (most recent call last)",
      "Input \u001b[1;32mIn [220]\u001b[0m, in \u001b[0;36m<cell line: 2>\u001b[1;34m()\u001b[0m\n\u001b[0;32m      1\u001b[0m \u001b[38;5;66;03m# describing a function\u001b[39;00m\n\u001b[1;32m----> 2\u001b[0m \u001b[38;5;28mprint\u001b[39m(\u001b[43mneed_operation\u001b[49m\u001b[38;5;241m.\u001b[39m\u001b[38;5;18m__doc__\u001b[39m)\n",
      "\u001b[1;31mNameError\u001b[0m: name 'need_operation' is not defined"
     ]
    }
   ],
   "source": [
    "# describing a function\n",
    "print(need_operation.__doc__)"
   ]
  },
  {
   "cell_type": "code",
   "execution_count": 221,
   "id": "728a698e",
   "metadata": {
    "ExecuteTime": {
     "end_time": "2023-05-11T14:26:48.385932Z",
     "start_time": "2023-05-11T14:26:48.377956Z"
    }
   },
   "outputs": [
    {
     "name": "stdout",
     "output_type": "stream",
     "text": [
      "Automatically created module for IPython interactive environment\n"
     ]
    }
   ],
   "source": [
    "print(__doc__)"
   ]
  }
 ],
 "metadata": {
  "kernelspec": {
   "display_name": "Python 3 (ipykernel)",
   "language": "python",
   "name": "python3"
  },
  "language_info": {
   "codemirror_mode": {
    "name": "ipython",
    "version": 3
   },
   "file_extension": ".py",
   "mimetype": "text/x-python",
   "name": "python",
   "nbconvert_exporter": "python",
   "pygments_lexer": "ipython3",
   "version": "3.9.12"
  }
 },
 "nbformat": 4,
 "nbformat_minor": 5
}
